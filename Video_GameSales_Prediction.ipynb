{
 "cells": [
  {
   "cell_type": "markdown",
   "metadata": {},
   "source": [
    "import numpy as np \n",
    "import pandas as pd \n",
    "import matplotlib.pyplot as plt \n",
    "from sklearn.preprocessing import StandardScaler, OneHotEncoder \n",
    "from sklearn.compose import ColumnTransformer, make_column_transformer \n",
    "from sklearn.pipeline import make_pipeline\n",
    "from sklearn.model_selection import train_test_split \n",
    "from sklearn.linear_model import LogisticRegression \n",
    "from sklearn.ensemble import RandomForestClassifier \n",
    "from sklearn.cluster import KMeans\n",
    "from sklearn.metrics import confusion_matrix \n",
    "import sklearn.metrics as metrics\n",
    "import matplotlib\n",
    "from sklearn.metrics import roc_curve, auc\n",
    "from matplotlib import pyplot \n",
    "from sklearn.model_selection import cross_val_score\n",
    "from sklearn.model_selection import StratifiedKFold\n",
    "from sklearn.linear_model import LogisticRegression\n",
    "from sklearn.neighbors import KNeighborsClassifier\n",
    "from sklearn.svm import SVC"
   ]
  },
  {
   "cell_type": "code",
   "execution_count": 2,
   "metadata": {},
   "outputs": [
    {
     "data": {
      "text/html": [
       "<div>\n",
       "<style scoped>\n",
       "    .dataframe tbody tr th:only-of-type {\n",
       "        vertical-align: middle;\n",
       "    }\n",
       "\n",
       "    .dataframe tbody tr th {\n",
       "        vertical-align: top;\n",
       "    }\n",
       "\n",
       "    .dataframe thead th {\n",
       "        text-align: right;\n",
       "    }\n",
       "</style>\n",
       "<table border=\"1\" class=\"dataframe\">\n",
       "  <thead>\n",
       "    <tr style=\"text-align: right;\">\n",
       "      <th></th>\n",
       "      <th>Name</th>\n",
       "      <th>Platform</th>\n",
       "      <th>Year_of_Release</th>\n",
       "      <th>Genre</th>\n",
       "      <th>Publisher</th>\n",
       "      <th>NA_Sales</th>\n",
       "      <th>EU_Sales</th>\n",
       "      <th>JP_Sales</th>\n",
       "      <th>Other_Sales</th>\n",
       "      <th>Global_Sales</th>\n",
       "      <th>Critic_Score</th>\n",
       "      <th>Critic_Count</th>\n",
       "      <th>User_Score</th>\n",
       "      <th>User_Count</th>\n",
       "      <th>Developer</th>\n",
       "      <th>Rating</th>\n",
       "    </tr>\n",
       "  </thead>\n",
       "  <tbody>\n",
       "    <tr>\n",
       "      <td>0</td>\n",
       "      <td>Wii Sports</td>\n",
       "      <td>Wii</td>\n",
       "      <td>2006.0</td>\n",
       "      <td>Sports</td>\n",
       "      <td>Nintendo</td>\n",
       "      <td>41.36</td>\n",
       "      <td>28.96</td>\n",
       "      <td>3.77</td>\n",
       "      <td>8.45</td>\n",
       "      <td>82.53</td>\n",
       "      <td>76.0</td>\n",
       "      <td>51.0</td>\n",
       "      <td>8</td>\n",
       "      <td>322.0</td>\n",
       "      <td>Nintendo</td>\n",
       "      <td>E</td>\n",
       "    </tr>\n",
       "    <tr>\n",
       "      <td>1</td>\n",
       "      <td>Super Mario Bros.</td>\n",
       "      <td>NES</td>\n",
       "      <td>1985.0</td>\n",
       "      <td>Platform</td>\n",
       "      <td>Nintendo</td>\n",
       "      <td>29.08</td>\n",
       "      <td>3.58</td>\n",
       "      <td>6.81</td>\n",
       "      <td>0.77</td>\n",
       "      <td>40.24</td>\n",
       "      <td>NaN</td>\n",
       "      <td>NaN</td>\n",
       "      <td>NaN</td>\n",
       "      <td>NaN</td>\n",
       "      <td>NaN</td>\n",
       "      <td>NaN</td>\n",
       "    </tr>\n",
       "    <tr>\n",
       "      <td>2</td>\n",
       "      <td>Mario Kart Wii</td>\n",
       "      <td>Wii</td>\n",
       "      <td>2008.0</td>\n",
       "      <td>Racing</td>\n",
       "      <td>Nintendo</td>\n",
       "      <td>15.68</td>\n",
       "      <td>12.76</td>\n",
       "      <td>3.79</td>\n",
       "      <td>3.29</td>\n",
       "      <td>35.52</td>\n",
       "      <td>82.0</td>\n",
       "      <td>73.0</td>\n",
       "      <td>8.3</td>\n",
       "      <td>709.0</td>\n",
       "      <td>Nintendo</td>\n",
       "      <td>E</td>\n",
       "    </tr>\n",
       "    <tr>\n",
       "      <td>3</td>\n",
       "      <td>Wii Sports Resort</td>\n",
       "      <td>Wii</td>\n",
       "      <td>2009.0</td>\n",
       "      <td>Sports</td>\n",
       "      <td>Nintendo</td>\n",
       "      <td>15.61</td>\n",
       "      <td>10.93</td>\n",
       "      <td>3.28</td>\n",
       "      <td>2.95</td>\n",
       "      <td>32.77</td>\n",
       "      <td>80.0</td>\n",
       "      <td>73.0</td>\n",
       "      <td>8</td>\n",
       "      <td>192.0</td>\n",
       "      <td>Nintendo</td>\n",
       "      <td>E</td>\n",
       "    </tr>\n",
       "    <tr>\n",
       "      <td>4</td>\n",
       "      <td>Pokemon Red/Pokemon Blue</td>\n",
       "      <td>GB</td>\n",
       "      <td>1996.0</td>\n",
       "      <td>Role-Playing</td>\n",
       "      <td>Nintendo</td>\n",
       "      <td>11.27</td>\n",
       "      <td>8.89</td>\n",
       "      <td>10.22</td>\n",
       "      <td>1.00</td>\n",
       "      <td>31.37</td>\n",
       "      <td>NaN</td>\n",
       "      <td>NaN</td>\n",
       "      <td>NaN</td>\n",
       "      <td>NaN</td>\n",
       "      <td>NaN</td>\n",
       "      <td>NaN</td>\n",
       "    </tr>\n",
       "  </tbody>\n",
       "</table>\n",
       "</div>"
      ],
      "text/plain": [
       "                       Name Platform  Year_of_Release         Genre Publisher  \\\n",
       "0                Wii Sports      Wii           2006.0        Sports  Nintendo   \n",
       "1         Super Mario Bros.      NES           1985.0      Platform  Nintendo   \n",
       "2            Mario Kart Wii      Wii           2008.0        Racing  Nintendo   \n",
       "3         Wii Sports Resort      Wii           2009.0        Sports  Nintendo   \n",
       "4  Pokemon Red/Pokemon Blue       GB           1996.0  Role-Playing  Nintendo   \n",
       "\n",
       "   NA_Sales  EU_Sales  JP_Sales  Other_Sales  Global_Sales  Critic_Score  \\\n",
       "0     41.36     28.96      3.77         8.45         82.53          76.0   \n",
       "1     29.08      3.58      6.81         0.77         40.24           NaN   \n",
       "2     15.68     12.76      3.79         3.29         35.52          82.0   \n",
       "3     15.61     10.93      3.28         2.95         32.77          80.0   \n",
       "4     11.27      8.89     10.22         1.00         31.37           NaN   \n",
       "\n",
       "   Critic_Count User_Score  User_Count Developer Rating  \n",
       "0          51.0          8       322.0  Nintendo      E  \n",
       "1           NaN        NaN         NaN       NaN    NaN  \n",
       "2          73.0        8.3       709.0  Nintendo      E  \n",
       "3          73.0          8       192.0  Nintendo      E  \n",
       "4           NaN        NaN         NaN       NaN    NaN  "
      ]
     },
     "execution_count": 2,
     "metadata": {},
     "output_type": "execute_result"
    }
   ],
   "source": [
    "# Read dataset\n",
    "ds = pd.read_csv('VideoGameSales.csv')\n",
    "ds.head()"
   ]
  },
  {
   "cell_type": "code",
   "execution_count": 3,
   "metadata": {},
   "outputs": [],
   "source": [
    "# Bin NA_Sales into Blockbuster or NB based on units sold\n",
    "BlockBuster = ds.loc[:, \"Global_Sales\"] > 1.0\n",
    "ds.loc[BlockBuster, \"Global_Sales\"] = 1\n",
    "ds.loc[~BlockBuster, \"Global_Sales\"] = 0\n",
    "# Drop nulls\n",
    "nullRemoved = ds.dropna(axis=0) #6825 observations with no nulls\n",
    "# Convert to int\n",
    "nullRemoved = nullRemoved.astype({'User_Score':float})"
   ]
  },
  {
   "cell_type": "code",
   "execution_count": 4,
   "metadata": {},
   "outputs": [
    {
     "name": "stdout",
     "output_type": "stream",
     "text": [
      "<class 'pandas.core.frame.DataFrame'>\n",
      "Int64Index: 6825 entries, 0 to 16706\n",
      "Data columns (total 16 columns):\n",
      "Name               6825 non-null object\n",
      "Platform           6825 non-null object\n",
      "Year_of_Release    6825 non-null float64\n",
      "Genre              6825 non-null object\n",
      "Publisher          6825 non-null object\n",
      "NA_Sales           6825 non-null float64\n",
      "EU_Sales           6825 non-null float64\n",
      "JP_Sales           6825 non-null float64\n",
      "Other_Sales        6825 non-null float64\n",
      "Global_Sales       6825 non-null float64\n",
      "Critic_Score       6825 non-null float64\n",
      "Critic_Count       6825 non-null float64\n",
      "User_Score         6825 non-null float64\n",
      "User_Count         6825 non-null float64\n",
      "Developer          6825 non-null object\n",
      "Rating             6825 non-null object\n",
      "dtypes: float64(10), object(6)\n",
      "memory usage: 906.4+ KB\n"
     ]
    },
    {
     "data": {
      "text/plain": [
       "''"
      ]
     },
     "execution_count": 4,
     "metadata": {},
     "output_type": "execute_result"
    }
   ],
   "source": [
    "from tabulate import tabulate\n",
    "tabulate(nullRemoved.info(), headers='keys', tablefmt='psql')"
   ]
  },
  {
   "cell_type": "code",
   "execution_count": 5,
   "metadata": {},
   "outputs": [],
   "source": [
    "#Group like categories: AO -> M, RP -> T, K-A/E10+ -> E\n",
    "\n",
    "nullRemoved.loc[nullRemoved.loc[:, \"Rating\"] == \"AO\", \"Rating\"] = \"M\"\n",
    "nullRemoved.loc[nullRemoved.loc[:, \"Rating\"] == \"K-A\", \"Rating\"] = \"E\"\n",
    "nullRemoved.loc[nullRemoved.loc[:, \"Rating\"] == \"RP\", \"Rating\"] = \"T\"\n",
    "nullRemoved.loc[nullRemoved.loc[:, \"Rating\"] == \"E10+\", \"Rating\"] = \"E\""
   ]
  },
  {
   "cell_type": "code",
   "execution_count": 6,
   "metadata": {},
   "outputs": [],
   "source": [
    "#Define target and featuress for model using domain knowledge of likely significant attributes related to sales\n",
    "\n",
    "target =  nullRemoved[['Global_Sales']].values #y\n",
    "features = nullRemoved[['Platform','Genre','Critic_Score','Critic_Count','User_Score','User_Count','Rating']] "
   ]
  },
  {
   "cell_type": "code",
   "execution_count": 7,
   "metadata": {},
   "outputs": [],
   "source": [
    "#Make pipeline that scales and encodes features\n",
    "\n",
    "preprocess = make_column_transformer(\n",
    "    (StandardScaler(), ['Critic_Score', 'Critic_Count','User_Score','User_Count' ]), #features scale\n",
    "    (OneHotEncoder(), ['Platform', 'Genre', 'Rating']) #OHE categorical features\n",
    ")"
   ]
  },
  {
   "cell_type": "code",
   "execution_count": 8,
   "metadata": {},
   "outputs": [],
   "source": [
    "#Scale data for use in Kmeans\n",
    "\n",
    "kmeans_features = preprocess.fit_transform(features).toarray()"
   ]
  },
  {
   "cell_type": "code",
   "execution_count": 9,
   "metadata": {},
   "outputs": [
    {
     "data": {
      "image/png": "[encoded data removed]",
      "text/plain": [
       "<Figure size 432x288 with 1 Axes>"
      ]
     },
     "metadata": {
      "needs_background": "light"
     },
     "output_type": "display_data"
    }
   ],
   "source": [
    "# Use elbow method to determine ideal number of clusters\n",
    "\n",
    "wcss = []\n",
    "for i in range(1, 11):\n",
    "    kmeans = KMeans(n_clusters = i, init = 'k-means++', random_state = 42)\n",
    "    kmeans.fit(kmeans_features)\n",
    "    wcss.append(kmeans.inertia_)\n",
    "plt.plot(range(1, 11), wcss)\n",
    "plt.title('The Elbow Method')\n",
    "plt.xlabel('Number of clusters')\n",
    "plt.ylabel('WCSS')\n",
    "plt.show()  #4 is ideal number of clusters"
   ]
  },
  {
   "cell_type": "code",
   "execution_count": 10,
   "metadata": {},
   "outputs": [],
   "source": [
    "#Train/test split\n",
    "\n",
    "X_train, X_test, y_train, y_test = train_test_split(features, target, random_state=0)"
   ]
  },
  {
   "cell_type": "code",
   "execution_count": 11,
   "metadata": {},
   "outputs": [],
   "source": [
    "#Fitting K-Means to the dataset\n",
    "\n",
    "kmeans = KMeans(n_clusters = 4, init = 'k-means++', random_state = 69)\n",
    "y_kmeans = kmeans.fit_predict(kmeans_features)"
   ]
  },
  {
   "cell_type": "code",
   "execution_count": 12,
   "metadata": {},
   "outputs": [],
   "source": [
    "#Add Kmeans labels to features df\n",
    "\n",
    "features = features.assign(Kmeans_labels=pd.Series(y_kmeans, index=features.index))"
   ]
  },
  {
   "cell_type": "code",
   "execution_count": 13,
   "metadata": {},
   "outputs": [],
   "source": [
    "#Train/test split with KMEANS attribute added\n",
    "\n",
    "X_train, X_test, y_train, y_test = train_test_split(features, target, random_state=0)"
   ]
  },
  {
   "cell_type": "code",
   "execution_count": 14,
   "metadata": {},
   "outputs": [
    {
     "name": "stdout",
     "output_type": "stream",
     "text": [
      "Logistic Regression Score: 0.853544\n"
     ]
    }
   ],
   "source": [
    "#Make Logistic Regression Classification model\n",
    "\n",
    "model = make_pipeline(\n",
    "    preprocess,\n",
    "    LogisticRegression(solver='lbfgs',penalty='l2'))\n",
    "model.fit(X_train, y_train.ravel())\n",
    "y_pred = model.predict(X_test)\n",
    "print(\"Logistic Regression Score: %f\" % model.score(X_test, y_test))"
   ]
  },
  {
   "cell_type": "code",
   "execution_count": 15,
   "metadata": {},
   "outputs": [],
   "source": [
    "#Probabiliities for threshold\n",
    "\n",
    "BothProbabilities = model.predict_proba(features)\n",
    "probabilities = BothProbabilities[:,1]"
   ]
  },
  {
   "cell_type": "code",
   "execution_count": 19,
   "metadata": {},
   "outputs": [
    {
     "name": "stdout",
     "output_type": "stream",
     "text": [
      "\n",
      "Random Forest Score: 0.884593\n"
     ]
    }
   ],
   "source": [
    "#Make Random Forest Classification model\n",
    "\n",
    "model2 = make_pipeline(\n",
    "        preprocess,\n",
    "        RandomForestClassifier(n_estimators=100))\n",
    "model2.fit(X_train, y_train.ravel())\n",
    "y_pred2 = model2.predict(X_test)\n",
    "print(\"\\nRandom Forest Score: %f\" % model2.score(X_test, y_test)) "
   ]
  },
  {
   "cell_type": "code",
   "execution_count": 20,
   "metadata": {},
   "outputs": [],
   "source": [
    "# ProbaProbabiliities for thresholdbiliities for threshold\n",
    "\n",
    "BothProbabilities2 = model2.predict_proba(features)\n",
    "probabilities2 = BothProbabilities2[:,1]"
   ]
  },
  {
   "cell_type": "code",
   "execution_count": 21,
   "metadata": {},
   "outputs": [
    {
     "name": "stdout",
     "output_type": "stream",
     "text": [
      "\n",
      "Logistic Regression Confusion Matrix and Metrics\n",
      "\n",
      "Probability Threshold is chosen to be: 0.3\n",
      "\n",
      "TP, TN, FP, FN: 127 , 1330 , 62 , 188\n",
      "\n",
      "Accuracy: 0.8535442296426479\n",
      "\n",
      "Precision: 0.671957671957672\n",
      "\n",
      "Recall: 0.4031746031746032\n",
      "\n",
      "F1: 0.5039682539682541\n",
      "\n",
      "Average precision-recall score: 0.38105100705039335\n"
     ]
    }
   ],
   "source": [
    "#Make Logistic Regression Confusion Matrix and Metrics\n",
    "\n",
    "cm = confusion_matrix(y_test, y_pred)\n",
    "print ('\\nLogistic Regression Confusion Matrix and Metrics')\n",
    "Threshold = 0.3 # Some number between 0 and 1\n",
    "print (\"\\nProbability Threshold is chosen to be:\", Threshold)\n",
    "predictions = (probabilities > Threshold).astype(int)\n",
    "tn, fp, fn, tp = cm.ravel()\n",
    "print (\"\\nTP, TN, FP, FN:\", tp, \",\", tn, \",\", fp, \",\", fn)\n",
    "print(\"\\nAccuracy:\",metrics.accuracy_score(y_test, y_pred))\n",
    "print(\"\\nPrecision:\",metrics.precision_score(y_test, y_pred))\n",
    "print(\"\\nRecall:\",metrics.recall_score(y_test, y_pred))\n",
    "print(\"\\nF1:\",metrics.f1_score(y_test, y_pred))\n",
    "print(\"\\nAverage precision-recall score:\",metrics.average_precision_score(y_test, y_pred))"
   ]
  },
  {
   "cell_type": "code",
   "execution_count": 22,
   "metadata": {},
   "outputs": [
    {
     "name": "stdout",
     "output_type": "stream",
     "text": [
      "\n",
      "Random Forest Confusion Matrix and Metrics\n",
      "Probability Threshold is chosen to be: 0.01\n",
      "TP, TN, FP, FN: 168 , 1342 , 50 , 147\n",
      "\n",
      "Accuracy: 0.8845928529584065\n",
      "\n",
      "Precision: 0.7706422018348624\n",
      "\n",
      "Recall: 0.5333333333333333\n",
      "\n",
      "F1: 0.6303939962476548\n",
      "\n",
      "Average precision-recall score: 0.49712516728204964\n"
     ]
    }
   ],
   "source": [
    "# Make Random Forest Confusion Matrix and Metrics\n",
    "cm2 = confusion_matrix(y_test, y_pred2)\n",
    "print ('\\nRandom Forest Confusion Matrix and Metrics')\n",
    "Threshold = 0.01 # Some number between 0 and 1\n",
    "print (\"Probability Threshold is chosen to be:\", Threshold)\n",
    "predictions = (probabilities2 > Threshold).astype(int)\n",
    "tn, fp, fn, tp = cm2.ravel()\n",
    "print (\"TP, TN, FP, FN:\", tp, \",\", tn, \",\", fp, \",\", fn)\n",
    "print(\"\\nAccuracy:\",metrics.accuracy_score(y_test, y_pred2))\n",
    "print(\"\\nPrecision:\",metrics.precision_score(y_test, y_pred2))\n",
    "print(\"\\nRecall:\",metrics.recall_score(y_test, y_pred2))\n",
    "print(\"\\nF1:\",metrics.f1_score(y_test, y_pred2))\n",
    "print(\"\\nAverage precision-recall score:\",metrics.average_precision_score(y_test, y_pred2))"
   ]
  },
  {
   "cell_type": "code",
   "execution_count": 23,
   "metadata": {},
   "outputs": [
    {
     "data": {
      "image/png": "[encoded data removed]",
      "text/plain": [
       "<Figure size 576x576 with 1 Axes>"
      ]
     },
     "metadata": {
      "needs_background": "light"
     },
     "output_type": "display_data"
    }
   ],
   "source": [
    "#LR ROC curve\n",
    "\n",
    "fpr, tpr, th = roc_curve(target, probabilities)\n",
    "AUC = auc(fpr, tpr)\n",
    "\n",
    "plt.rcParams[\"figure.figsize\"] = [8, 8] # Square\n",
    "font = {'weight' : 'bold', 'size' : 18}\n",
    "matplotlib.rc('font', **font)\n",
    "plt.figure()\n",
    "plt.title('Logistic Regression ROC Curve')\n",
    "plt.xlabel('FPR')\n",
    "plt.ylabel('TPR')\n",
    "plt.plot(fpr, tpr, LW=3, label='ROC curve (AUC = %0.2f)' % AUC)\n",
    "plt.plot([0, 1], [0, 1], color='navy', LW=3, linestyle='--') # reference line for random classifier\n",
    "plt.legend(loc=\"lower right\")\n",
    "plt.show() #ideal threshold is around 0.3"
   ]
  },
  {
   "cell_type": "code",
   "execution_count": 21,
   "metadata": {},
   "outputs": [
    {
     "data": {
      "image/png": "[encoded data removed]",
      "text/plain": [
       "<Figure size 576x576 with 1 Axes>"
      ]
     },
     "metadata": {
      "needs_background": "light"
     },
     "output_type": "display_data"
    }
   ],
   "source": [
    "#RF ROC curve\n",
    "\n",
    "fpr, tpr, th = roc_curve(target, probabilities2)\n",
    "AUC = auc(fpr, tpr)\n",
    "\n",
    "plt.rcParams[\"figure.figsize\"] = [8, 8] # Square\n",
    "font = {'weight' : 'bold', 'size' : 18}\n",
    "matplotlib.rc('font', **font)\n",
    "plt.figure()\n",
    "plt.title('Random Forest ROC Curve')\n",
    "plt.xlabel('FPR')\n",
    "plt.ylabel('TPR')\n",
    "plt.plot(fpr, tpr, LW=3, label='ROC curve (AUC = %0.2f)' % AUC)\n",
    "plt.plot([0, 1], [0, 1], color='navy', LW=3, linestyle='--') # reference line for random classifier\n",
    "plt.legend(loc=\"lower right\")\n",
    "plt.show() #ideal threshold is around 0.1"
   ]
  },
  {
   "cell_type": "code",
   "execution_count": 24,
   "metadata": {},
   "outputs": [
    {
     "name": "stdout",
     "output_type": "stream",
     "text": [
      "LR: 0.845253 (0.011908)\n",
      "KNN: 0.840952 (0.009265)\n",
      "SVM: 0.843696 (0.008824)\n",
      "RF: 0.865371 (0.008804)\n"
     ]
    }
   ],
   "source": [
    "#Spot check algorithm performance against other models.\n",
    "\n",
    "X_train2  = preprocess.fit_transform(X_train).toarray()\n",
    "models = []\n",
    "models.append(('LR', LogisticRegression(solver='lbfgs')))\n",
    "#models.append(('RC', RidgeClassifier()))\n",
    "#models.append(('LDA', LinearDiscriminantAnalysis()))\n",
    "models.append(('KNN', KNeighborsClassifier()))\n",
    "#models.append(('CART', DecisionTreeClassifier()))\n",
    "#models.append(('NB', GaussianNB()))\n",
    "models.append(('SVM', SVC(gamma='auto')))\n",
    "models.append(('RF', RandomForestClassifier(n_estimators=100)))\n",
    "# evaluate each model in turn\n",
    "results = []\n",
    "names = []\n",
    "out = []\n",
    "# need to use preprocess to scale and encode X_train and y_train\n",
    "for name, model in models:\n",
    "    #model = preprocess.fit_transform(features).toarray()\n",
    "    kfold = StratifiedKFold(n_splits=10, random_state=1)\n",
    "    cv_results = cross_val_score(model, X_train2, y_train.ravel(), cv=kfold, scoring='accuracy')\n",
    "    results.append(cv_results)\n",
    "    names.append(name)\n",
    "    print('%s: %f (%f)' % (name, cv_results.mean(), cv_results.std()))"
   ]
  },
  {
   "cell_type": "code",
   "execution_count": 47,
   "metadata": {},
   "outputs": [
    {
     "data": {
      "image/png": "[encoded data removed]",
      "text/plain": [
       "<Figure size 576x576 with 1 Axes>"
      ]
     },
     "metadata": {
      "needs_background": "light"
     },
     "output_type": "display_data"
    }
   ],
   "source": [
    "#Compare Algorithms\n",
    "\n",
    "plt.figure()\n",
    "pyplot.boxplot(results, labels=names)\n",
    "pyplot.title('Algorithm Comparison')\n",
    "pyplot.xlabel('Models')\n",
    "pyplot.ylabel('Accuracy')\n",
    "pyplot.show()"
   ]
  },
  {
   "cell_type": "code",
   "execution_count": 23,
   "metadata": {},
   "outputs": [],
   "source": [
    "#Based upon the ROC curves for each model I tuned the Threshold value to the point on the curve closest to the upper-left corner.\n",
    "#The Random Forest Classifier is more accurate than the Logistic Regression model when it comes to identifying blockbuster videogames. \n",
    "#The ideal number of clusters for Kmeans was 4. Both models are highly accurate, but the recall and F1 rates are much much better for my Random Forest model.\n",
    "#I conclude that I can can classify games based on whether they will sell one million global units with decent accuracy.\n",
    "#My model of models shows that I have used two of the highest accuracy classifiers."
   ]
  },
  {
   "cell_type": "markdown",
   "metadata": {},
   "source": [
    "\n",
    "\n",
    "\n",
    "\n",
    "\n"
   ]
  }
 ],
 "metadata": {
  "kernelspec": {
   "display_name": "Python 3",
   "language": "python",
   "name": "python3"
  },
  "language_info": {
   "codemirror_mode": {
    "name": "ipython",
    "version": 3
   },
   "file_extension": ".py",
   "mimetype": "text/x-python",
   "name": "python",
   "nbconvert_exporter": "python",
   "pygments_lexer": "ipython3",
   "version": "3.7.4"
  }
 },
 "nbformat": 4,
 "nbformat_minor": 2
}
